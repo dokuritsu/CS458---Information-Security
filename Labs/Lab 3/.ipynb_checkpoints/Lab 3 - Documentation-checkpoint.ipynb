{
 "cells": [
  {
   "cell_type": "markdown",
   "metadata": {},
   "source": [
    "# Lab 3 - MD5 Collision Attack Lab\n",
    "\n",
    "## By: Laura Perda\n",
    "--------------------------------------------------------------"
   ]
  },
  {
   "cell_type": "markdown",
   "metadata": {},
   "source": [
    "## Task 1 - Generating Two Different Files with the Same MD5 Hash\n",
    "\n",
    "In this task, I will generate two different files with the same MD5 hash values. The beginning parts of these files are required to be the same (share the same prefix), which can be accomplished using the md5collegen program. I created a text file named 'prefix.txt' that contains the word 'welcome'. The picture below shows the following md5collgen command. When using the recommended 'diff' command on 'out1.bin' and 'out2.bin', it shows that the two files are different, but when comparing the hash value through the 'md5sum' command it shows the same.\n",
    "    \n",
    "![nodifference](Task1/nodifference.png)\n",
    "\n",
    "Q1: If the length of your prefix file is not a multiple of 64, what is going to happen?\n",
    "    \n",
    "A: In the picture above, I also decided to check the hex dump of 'out1.bin' which show it was padded with zeroes to bring it up to 64 bytes and then followed by random data being appended to that. The hex dump for 'out2.bin' has the same 64 initial bytes, but differs slightly when it comes to the random data appended at the end of the file.\n",
    "    \n",
    "Q2: Create a prefix file with exactly 64 bytes & run the collision tool again to see what happens.\n",
    "    \n",
    "A: For this question, I truncated the prefix.txt file to be the size of 64 bytes thru the 'truncate' command. The results shown in the pictures below show that the outcomes were not padded this time. The only change is the type of random data appended to the prefix. \n",
    "    \n",
    "![truncate](Task1/truncate.png)\n",
    "![nodiff](Task1/pic3.png)\n",
    "\n",
    "Q3: Are the data (128 bytes) genereated by md5collgen completely different for the two output files? Please identify all the bytes that are different. \n",
    "    \n",
    "A: The picture belows shows that there are a total of 6 different bytes from the random appended data that are different in the hex dumps. \n",
    "    \n",
    "![diffbyte](Task1/pic4.png)"
   ]
  },
  {
   "cell_type": "markdown",
   "metadata": {},
   "source": [
    "## Task 2 - Understanding MD5's Property\n",
    "\n",
    "In this task, we will try to understand the MD5 algorithm and undertand the importance of these properties. From what we have seen, MD5 divides the input data into blocks of 64 bytes and then computes the hash over these blocks. The core of the MD5 alg. is the compression function, which takes 2 inputs, a 64 byte block and the outcome of the previous iteration. It then produces a 128 bit IHV, which stands for \"Intermediate Hash Value\", which is fed to the next iteraiton. \n",
    "    \n",
    "We have to design a experiment on the simple fact that if inputs M and N have the same hash, adding the suffix T to them will result in two outputs that have the same hash value. This was already mostly accomplished in Task 1. Thus, the steps in Task 1 will repeated and then show an extra step in which we append some suffix and redo the hash. \n",
    "    \n",
    "Below shows that the M & N have the same hash value. \n",
    "![p1](Task2/p1.png)\n",
    "\n",
    "The picture below shows that after appending the prefix.txt file to the end of both .bin files, the 'md5sum' command shows that the hash value remains the same. \n",
    "\n",
    "![p2](Task2/p2.png)\n",
    "\n",
    "As a result, we can say the MD5 property holds."
   ]
  },
  {
   "cell_type": "markdown",
   "metadata": {},
   "source": [
    "## Task 3 - Generating Two Executable Files with the same MD5 Hash\n",
    "\n",
    "In this task, we are given a program that we must modify with some array and so that we can divide the executable file into three parts: prefix, 128 bit region, and suffix. Length of prefix should be a multiple of 64. The point of this is to generate two different executables with the same MD5 hash value and check if their hash value remains the same after appending some suffix.\n",
    "\n",
    "Compiling the provided program and checking the location of the beginning of the array of values shows that it is at an offset of 0x1040, which converts to 4160 in decimal (divisible by 64). Since I would like to see a bit of the array within the prefix, I chose to add an extra 64 byte block, so the cut off would be 4224 bytes. The picture below demonstrates a bit of this.\n",
    "\n",
    "![p1](Task3/p1.png)\n",
    "\n",
    "The picture below shows that after using the \"md5collgen\" to create the same hash but with different endings (P & Q).\n",
    "\n",
    "![p2](Task3/p2.png)\n",
    "![p3](Task3/p3.png)\n",
    "\n",
    "Now, we can append the tail of the prefix to both files and check whether the same hash value is true when they receive the same suffixes. Creating the files into executable files does not change the outcome.\n",
    "\n",
    "![p4](Task3/p4.png)"
   ]
  },
  {
   "cell_type": "markdown",
   "metadata": {},
   "source": [
    "## Task 4 - Making the 2 Programs Behave Differently\n",
    "\n",
    "In the previous task, we manage to make two programs to have the same MD5 hash, but their behaviors were different. Their differences were in the print out, but they still execute the same sequence of instructions. In this task, we want to create two different programs to have the same MD5 hash value. \n",
    "\n",
    "Same case as before but with a different source code. The two arrays are the same, so it should execute the first print statement. Again, I while the array starts at x1040, I will like to see a bit of the array, so x1080 is fine for the prefix.\n",
    "\n",
    "![p1](Task4/p1.png)\n",
    "\n",
    "After using the \"md5collgen\" command to create the files pout & qout, I checked to see if the hash values were the same by using 'md5sum'. Both result being the same despite being a slight difference in the middle section as shown through bless hex. Note that the last 8 elements of the first array are missing, so we need to grab those and append to the two created files. \n",
    "\n",
    "![p2](Task4/p2.png)\n",
    "![p3](Task4/p3.png)\n",
    "\n",
    "After I had checked the hash values, I had placed the rest of a.out file into a file named 'test'. This is done in order to grab the missing 8 bytes of the first array. Using this, I concatenated the 'missing' file to 'pout' & 'qout' to create a complete version to both. \n",
    "\n",
    "![p4](Task4/p4.png)\n",
    "\n",
    "Then I needed to add the bytes between the end of the 1st array & the beginning of the 2nd array, which I named 'tillNext'. I stored the beginning of the second array in 'suffix' into 'test', so that I can add them to the complete versions of 'pout' & 'qout'.\n",
    "\n",
    "![p5](Task4/p5.png)\n",
    "\n",
    "At this point, the 2 programs are different executables but only have the content up to the 2nd array. To make these two files do different outcomes (good vs bad), the content of the 2nd array should be equal to the generated array. So, I had to place the bytes after 2nd array from 'test' to 'suffix'. Then I copied the 1st array from 'poutcomplete' to 'parray', which was appended to the previously made files in the picture above. From this, I was able to create the 2 good & bad executables.\n",
    "\n",
    "![p6](Task4/p6.png)\n",
    "\n",
    "Now that I have the 2 executables, it's time to test whether they still produce the same hash value despite being different. I made them executable, checked their hash values, and executed both just to make sure the outcome was correct. It was interesting to see that so much work was necessary in order to exploit the MD5 algorithm. \n",
    "\n",
    "![p7](Task4/p7.png)"
   ]
  },
  {
   "cell_type": "code",
   "execution_count": null,
   "metadata": {},
   "outputs": [],
   "source": []
  }
 ],
 "metadata": {
  "kernelspec": {
   "display_name": "Python 3",
   "language": "python",
   "name": "python3"
  },
  "language_info": {
   "codemirror_mode": {
    "name": "ipython",
    "version": 3
   },
   "file_extension": ".py",
   "mimetype": "text/x-python",
   "name": "python",
   "nbconvert_exporter": "python",
   "pygments_lexer": "ipython3",
   "version": "3.7.4"
  }
 },
 "nbformat": 4,
 "nbformat_minor": 2
}
