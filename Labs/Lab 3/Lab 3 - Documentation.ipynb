{
 "cells": [
  {
   "cell_type": "markdown",
   "metadata": {},
   "source": [
    "# Lab 3 - MD5 Collision Attack Lab\n",
    "\n",
    "## By: Laura Perda\n",
    "--------------------------------------------------------------"
   ]
  },
  {
   "cell_type": "markdown",
   "metadata": {},
   "source": [
    "## Task 1 - Generating Two Different Files with the Same MD5 Hash\n",
    "\n",
    "    In this task, I will generate two different files with the same MD5 hash values. The beginning parts of these files are required to be the same (share the same prefix), which can be accomplished using the md5collegen program. I created a text file named 'prefix.txt' that contains the word 'welcome'. The picture below shows the following md5collgen command. When using the recommended 'diff' command on 'out1.bin' and 'out2.bin', it shows that the two files are different, but when comparing the hash value through the 'md5sum' command it shows the same.\n",
    "    \n",
    "![nodifference](Task1/nodifference.png)\n",
    "\n",
    "    Q1: If the length of your prefix file is not a multiple of 64, what is going to happen?\n",
    "    \n",
    "    A: In the picture above, I also decided to check the hex dump of 'out1.bin' which show it was padded with zeroes to bring it up to 64 bytes and then followed by random data being appended to that. The hex dump for 'out2.bin' has the same 64 initial bytes, but differs slightly when it comes to the random data appended at the end of the file. "
   ]
  },
  {
   "cell_type": "code",
   "execution_count": null,
   "metadata": {},
   "outputs": [],
   "source": []
  }
 ],
 "metadata": {
  "kernelspec": {
   "display_name": "Python 3",
   "language": "python",
   "name": "python3"
  },
  "language_info": {
   "codemirror_mode": {
    "name": "ipython",
    "version": 3
   },
   "file_extension": ".py",
   "mimetype": "text/x-python",
   "name": "python",
   "nbconvert_exporter": "python",
   "pygments_lexer": "ipython3",
   "version": "3.7.4"
  }
 },
 "nbformat": 4,
 "nbformat_minor": 2
}
