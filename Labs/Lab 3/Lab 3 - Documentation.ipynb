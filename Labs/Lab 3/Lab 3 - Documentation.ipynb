{
 "cells": [
  {
   "cell_type": "markdown",
   "metadata": {},
   "source": [
    "# Lab 3 - MD5 Collision Attack Lab\n",
    "\n",
    "## By: Laura Perda\n",
    "--------------------------------------------------------------"
   ]
  },
  {
   "cell_type": "markdown",
   "metadata": {},
   "source": [
    "## Task 1 - Generating Two Different Files with the Same MD5 Hash\n",
    "\n",
    "In this task, I will generate two different files with the same MD5 hash values. The beginning parts of these files are required to be the same (share the same prefix), which can be accomplished using the md5collegen program. I created a text file named 'prefix.txt' that contains the word 'welcome'. The picture below shows the following md5collgen command. When using the recommended 'diff' command on 'out1.bin' and 'out2.bin', it shows that the two files are different, but when comparing the hash value through the 'md5sum' command it shows the same.\n",
    "    \n",
    "![nodifference](Task1/nodifference.png)\n",
    "\n",
    "Q1: If the length of your prefix file is not a multiple of 64, what is going to happen?\n",
    "    \n",
    "A: In the picture above, I also decided to check the hex dump of 'out1.bin' which show it was padded with zeroes to bring it up to 64 bytes and then followed by random data being appended to that. The hex dump for 'out2.bin' has the same 64 initial bytes, but differs slightly when it comes to the random data appended at the end of the file.\n",
    "    \n",
    "Q2: Create a prefix file with exactly 64 bytes & run the collision tool again to see what happens.\n",
    "    \n",
    "A: For this question, I truncated the prefix.txt file to be the size of 64 bytes thru the 'truncate' command. The results shown in the pictures below show that the outcomes were not padded this time. The only change is the type of random data appended to the prefix. \n",
    "    \n",
    "![truncate](Task1/truncate.png)\n",
    "![nodiff](Task1/pic3.png)\n",
    "\n",
    "Q3: Are the data (128 bytes) genereated by md5collgen completely different for the two output files? Please identify all the bytes that are different. \n",
    "    \n",
    "A: The picture belows shows that there are a total of 6 different bytes from the random appended data that are different in the hex dumps. \n",
    "    \n",
    "![diffbyte](Task1/pic4.png)"
   ]
  },
  {
   "cell_type": "markdown",
   "metadata": {},
   "source": [
    "## Task 2 - Understanding MD5's Property\n",
    "\n",
    "In this task, we will try to understand the MD5 algorithm and undertand the importance of these properties. From what we have seen, MD5 divides the input data into blocks of 64 bytes and then computes the hash over these blocks. The core of the MD5 alg. is the compression function, which takes 2 inputs, a 64 byte block and the outcome of the previous iteration. It then produces a 128 bit IHV, which stands for \"Intermediate Hash Value\", which is fed to the next iteraiton. \n",
    "    \n",
    "We have to design a experiment on the simple fact that if inputs M and N have the same hash, adding the suffix T to them will result in two outputs that have the same hash value. This was already mostly accomplished in Task 1. Thus, the steps in Task 1 will repeated and then show an extra step in which we append some suffix and redo the hash. \n",
    "    \n",
    "Below shows that the M & N have the same hash value. \n",
    "![p1](Task2/p1.png)\n",
    "\n",
    "The picture below shows that after appending the prefix.txt file to the end of both .bin files, the 'md5sum' command shows that the hash value remains the same. \n",
    "\n",
    "![p2](Task2/p2.png)"
   ]
  },
  {
   "cell_type": "code",
   "execution_count": null,
   "metadata": {},
   "outputs": [],
   "source": []
  }
 ],
 "metadata": {
  "kernelspec": {
   "display_name": "Python 3",
   "language": "python",
   "name": "python3"
  },
  "language_info": {
   "codemirror_mode": {
    "name": "ipython",
    "version": 3
   },
   "file_extension": ".py",
   "mimetype": "text/x-python",
   "name": "python",
   "nbconvert_exporter": "python",
   "pygments_lexer": "ipython3",
   "version": "3.7.4"
  }
 },
 "nbformat": 4,
 "nbformat_minor": 2
}
