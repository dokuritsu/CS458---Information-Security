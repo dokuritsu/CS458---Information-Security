{
 "cells": [
  {
   "cell_type": "markdown",
   "metadata": {},
   "source": [
    "## Lab 4 - SQL Injection Attack\n",
    "\n",
    "## Task 1 - Get Familiar with SQL Statements\n",
    "\n",
    "The first task is simply familiarizing yourself with the given mysql database. In this case, the database already contains a table with the following name \"credential' which holds a few users with their info. After going through the basic guidelines of accessing the tables, I have to show the information regarding a specific user named \"Alice\", which can be done through a simle SQL query.\n",
    "\n",
    "![p1.png](p1.png)"
   ]
  },
  {
   "cell_type": "code",
   "execution_count": null,
   "metadata": {},
   "outputs": [],
   "source": []
  }
 ],
 "metadata": {
  "kernelspec": {
   "display_name": "Python 3",
   "language": "python",
   "name": "python3"
  },
  "language_info": {
   "codemirror_mode": {
    "name": "ipython",
    "version": 3
   },
   "file_extension": ".py",
   "mimetype": "text/x-python",
   "name": "python",
   "nbconvert_exporter": "python",
   "pygments_lexer": "ipython3",
   "version": "3.7.4"
  }
 },
 "nbformat": 4,
 "nbformat_minor": 2
}
