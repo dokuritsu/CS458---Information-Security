{
 "cells": [
  {
   "cell_type": "markdown",
   "metadata": {},
   "source": [
    "# Lab 4 - SQL Injection Attack\n",
    "\n",
    "## Task 1 - Get Familiar with SQL Statements\n",
    "\n",
    "The first task is simply familiarizing yourself with the given mysql database. In this case, the database already contains a table with the following name \"credential' which holds a few users with their info. After going through the basic guidelines of accessing the tables, I have to show the information regarding a specific user named \"Alice\", which can be done through a simle SQL query.\n",
    "\n",
    "![p1.png](Task1/p1.png)"
   ]
  },
  {
   "cell_type": "markdown",
   "metadata": {},
   "source": [
    "## Task 2 - SQL Injection Attack on Select Statement\n",
    "\n",
    "### Task 2.1 - Attack from Webpage\n",
    "\n",
    "From the given information, we can detect that the most vulnerable spot to attack is within the WHERE clause of the SQL query because it takes in a employeeID. From this point, we can submit the following code: ' or Name='admin';#\n",
    "\n",
    "The beginning of the single quotes closes out the first part of the WHERE clause which allows us to inject our OR statement and login as the admin. The # afterwards is used to comment out the rest of the WHERE clause. The success of this attack is shown below:\n",
    "\n",
    "![p1.png](Task2/p1.png)\n",
    "![p2.png](Task2/p2.png)\n",
    "\n",
    "### Task 2.2 - Attack from Commandl Line\n",
    "\n",
    "The same is repeated above, but through the command line. The following images show this:\n",
    "\n",
    "![p3.png](Task2/p3.png)\n",
    "![p4.png](Task2/p4.png)\n",
    "\n",
    "### Task 2.3 - Append a new SQL Statement\n",
    "\n",
    "We can continue the SQL query we injected with an update or delete statement. But even after attempting it, I just get a rejected SQL syntax statement which is odd because I had tested the SQL update query beforehand. Below are the pictures:\n",
    "\n",
    "![p5.png](Task2/p5.png)\n",
    "![p6.png](Task2/p6.png)\n",
    "![p7.png](Task2/p7.png)\n",
    "![p8.png](Task2/p8.png)"
   ]
  },
  {
   "cell_type": "markdown",
   "metadata": {},
   "source": [
    "## Task 3 - Attack on Update Statement\n",
    "\n",
    "### Task 3.1 - Modify own salary\n",
    "\n",
    "Using the vulnerability in Nickname field, we can pass in this sql query: ', salary='30000' where EID='10000',#. Below are the results:\n",
    "\n",
    "![p1.png](Task3/p1.png)\n",
    "![p3.png](Task3/p3.png)\n",
    "![p2.png](Task3/p2.png)\n",
    "\n",
    "### Task 3.2 - Modify Boss's Salary\n",
    "\n",
    "At this point, we know how to bypass the login as anyone (even as admin), so I'm going to assume Alice very much knows of all these flaws & pretty much logs into her boss's account and modifies his salary. Below are the results:\n",
    "\n",
    "![p4.png](Task3/p4.png)\n",
    "![p5.png](Task3/p5.png)\n",
    "\n"
   ]
  },
  {
   "cell_type": "code",
   "execution_count": null,
   "metadata": {},
   "outputs": [],
   "source": []
  }
 ],
 "metadata": {
  "kernelspec": {
   "display_name": "Python 3",
   "language": "python",
   "name": "python3"
  },
  "language_info": {
   "codemirror_mode": {
    "name": "ipython",
    "version": 3
   },
   "file_extension": ".py",
   "mimetype": "text/x-python",
   "name": "python",
   "nbconvert_exporter": "python",
   "pygments_lexer": "ipython3",
   "version": "3.7.4"
  }
 },
 "nbformat": 4,
 "nbformat_minor": 2
}
