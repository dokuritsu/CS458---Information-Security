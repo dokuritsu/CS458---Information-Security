{
 "cells": [
  {
   "cell_type": "markdown",
   "metadata": {},
   "source": [
    "# Problem 1 - News Story of Security Incident\n",
    "\n",
    "In 2018, USPS website exposed data on 60 millions users. Apparently, the problem originated from an authentication weakness in the USPS API that tied to a Postal Servive initiative called \"Informed Visibility\". It was meant for buinesses, advertisers, and other bulk mail senders to \"make better business decisions by providing them with access to near real-time tracking data\". As a result, anyone logged into the usps.com was able to query the system for account details belonging to any the users. Information such as email address, usernames, user IDs, street address, phone numbers, and etc were released or available to anyone. They were also able to modified said users information. \n",
    "\n",
    "This type of breach hit two of the big three security goals. There was definitely a loss of confidentiality since the website did not prevent unauthorized reading of information and there was a loss of integrity since the website did not prevent modification of the users' information.\n",
    "\n",
    "The article mentions that many of those that were aware of the problem were able to obtain anyone's information for any purpose. There was an example of a user indicating that they had moved away to a new location due to an issue with neighbors and if such a breach occurred, there location was now available to their own neighbors. "
   ]
  },
  {
   "cell_type": "markdown",
   "metadata": {},
   "source": [
    "# Problem 2 - Definitions\n",
    "* A. Define each of these terms: confidentiality, integrity, and availability.\n",
    "    * a. Confidentiality - preventing unauthorized access of secured information\n",
    "    * b. Integrity - preventing unauthorized modification of secured information\n",
    "    * c. Availability - ensures data is available at all times\n",
    "    \n",
    "    \n",
    "* B. Provide concrete example where confidentiality is more important than integrity.\n",
    "\n",
    "    Anonymous submissions. For example, Piazza is platform that allows the students to confidently post any questions or comments anonymously. If that goal was removed, the students would lose trust within the site and no longer feel comfortable with asking questions or seeking for help.\n",
    "    \n",
    "    \n",
    "* C. Provide a concrete exmaple where integrity is more important than confidentiality. \n",
    "\n",
    "    Perhaps power/energy systems where a delicate balance of information/calculations is necessary to run whatever system or operation is being completed. A nuclear powerplant is another good example. \n",
    "    \n",
    "    \n",
    "* D. Provide a concrete example where availability is the overriding concern.\n",
    "\n",
    "    Accessing a bank account. It is important to reassure the user that their money is safe and available at all times."
   ]
  },
  {
   "cell_type": "markdown",
   "metadata": {},
   "source": [
    "# Problem 3 - Bank Account Scenario\n",
    "\n",
    "Q: From a bank's perspective, which is more important, the integrity of its customer's data or the confidentiality of the data? From the bank's customers, which is more important?\n",
    "\n",
    "    I believe confidentiality would be important for both sides. A customer would be upset if the adversary was able to go within their accounts because of lack of confidentiality. Once the adversary has access to the account, they would be able to breach the integrity of the user by, for example, changing the password. This will obviously lead to an upset user and more problems for the bank."
   ]
  },
  {
   "cell_type": "markdown",
   "metadata": {},
   "source": [
    "# Problem 4 - Scheming\n",
    "\n",
    "Q: Sender and receiver have same key. To determine they have same key, sender generates R, XOR with K and sends to receiver. Receiver XOR R with K again, and sends back the original plaintext R to sender to confirm they have same K. Is there a flaw?\n",
    "\n",
    "    I think the obvious problem is that the receiver is sending back the plaintext to the original sender. If there was a passive eavesdropper collecting information, they would have access to a plaintext/ciphertext pair. Thus, they would easily be able to determine the key."
   ]
  },
  {
   "cell_type": "markdown",
   "metadata": {},
   "source": [
    "# Problem 5 - XOR Arithmetic Expressions\n",
    "\n",
    "Given: a XOR b = c\n",
    "1. a XOR a = 0\n",
    "2. a XOR a' = 1\n",
    "3. a XOR b' = c'\n",
    "4. a' XOR b' = c\n",
    "5. a XOR b XOR a = b\n",
    "6. b XOR c = a"
   ]
  },
  {
   "cell_type": "markdown",
   "metadata": {},
   "source": [
    "# Problem 6 - Simple Shift Substitution\n",
    "\n",
    "Given ciphertext: CSYEVIXIVQMREXIH\n",
    "\n",
    "    After doing frequency analysis, I = 3 and E = 2...Taking a wild guess, I assigned I = E, which would mean a shift by 4. Forward shift resulted in gibberish, so I tried a backward shift.\n",
    "    \n",
    "Plaintext: __YOUARETERMINATED__"
   ]
  },
  {
   "cell_type": "markdown",
   "metadata": {},
   "source": [
    "# Problem 7 - Encrypt using Double Transposition\n",
    "\n",
    "Plaintext: We are all together; Use double transposition cipher with 4 rows and 4 columns. \n",
    "* Row permutation: (1, 2, 3, 4) -> (2, 4, 1, 3)\n",
    "* Column permutation: (1, 2, 3, 4) -> (3, 1, 2, 4)\n",
    "\n",
    "Original:\n",
    "$$\\begin{pmatrix} w & e & a & r \\\\ e & a & l & l \\\\ t & o & g & e \\\\ t & h & e & r \\end{pmatrix}$$\n",
    "\n",
    "Row Permutation:\n",
    "$$\\begin{pmatrix} e & a & l & l \\\\ t & h & e & r \\\\ w & e & a & r \\\\ t & o & g & e \\end{pmatrix}$$\n",
    "\n",
    "Column Permutation:\n",
    "$$\\begin{pmatrix} l & e & a & l \\\\ e & t & h & r \\\\ a & w & e & r \\\\ g & t & o & e \\end{pmatrix}$$\n",
    "\n",
    "Final Ciphertext: __LEALETHRAWERGTOE__"
   ]
  },
  {
   "cell_type": "markdown",
   "metadata": {},
   "source": [
    "# Problem 8 - Computation\n",
    "\n",
    "Q: Computer can test 2^40 keys each second and the key space is size of 2^128. Compute the average time taken to find the correct key.\n",
    "\n",
    "2^128/2^40 = 2^88."
   ]
  }
 ],
 "metadata": {
  "kernelspec": {
   "display_name": "Python 3",
   "language": "python",
   "name": "python3"
  },
  "language_info": {
   "codemirror_mode": {
    "name": "ipython",
    "version": 3
   },
   "file_extension": ".py",
   "mimetype": "text/x-python",
   "name": "python",
   "nbconvert_exporter": "python",
   "pygments_lexer": "ipython3",
   "version": "3.7.4"
  }
 },
 "nbformat": 4,
 "nbformat_minor": 2
}
