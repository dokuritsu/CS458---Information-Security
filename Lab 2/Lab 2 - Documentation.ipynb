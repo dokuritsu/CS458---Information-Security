{
 "cells": [
  {
   "cell_type": "markdown",
   "metadata": {},
   "source": [
    "# Lab 2 - Secret Key Encryption Lab\n",
    "## By: Laura Pereda\n",
    "-------------------------------------\n",
    "### Task 1 - Freq. Analysis against Monoalphabetc Substitution Cipher\n",
    "\n",
    "    By running a simple frequency analysis, the characters 'R' and 'S' were the top 2. Thus, it would make sense to map the character 'E' = 'R' and 'T' = 'S'. "
   ]
  },
  {
   "cell_type": "markdown",
   "metadata": {},
   "source": [
    "![Freq_analysis](Task1/freq_analysis.png)"
   ]
  },
  {
   "cell_type": "markdown",
   "metadata": {},
   "source": [
    "    From the substitution, I was able to notice that there were a lot of 'Tb', which could indicate that 'B' = 'O'. The word would then form to be 'TO':\n",
    "\n",
    "![firstSub](Task1/first_Substitution.png)"
   ]
  },
  {
   "cell_type": "markdown",
   "metadata": {},
   "source": [
    "A very common word within the English language is 'THE', which is similar to 'TUE'. This would indicate that 'U' = 'H'. Substituting these two letters results in the following:\n",
    "\n",
    "![secondSub](Task1/second_Sub.png)"
   ]
  },
  {
   "cell_type": "markdown",
   "metadata": {},
   "source": [
    "With this substitution, I noticed that the letter 'N' was always alone which could be a replacement for 'A'. Replacing that character led to a wild guess of replacing 'FP' with 'IS'. This discovery lead to observing 'IH', so another possible replacement 'H' for 'N'.\n",
    "\n",
    "![thirdSub](Task1/third_Sub.png)"
   ]
  },
  {
   "cell_type": "markdown",
   "metadata": {},
   "source": [
    "I managed to complete one four-letter word, but I was more interested in the highlighted part of the picture. It seems to form the word 'INTRODUCTION', so 'L' = 'R, 'K' = 'D', 'M' = 'U', and 'J' = 'C':\n",
    "\n",
    "![fourthSub](Task1/fourth_Sub.png)"
   ]
  },
  {
   "cell_type": "markdown",
   "metadata": {},
   "source": [
    "From there it was just finishing the last couple of words to finish the decryption. Final outcome:\n",
    "\n",
    "![final](Task1/final_Outcome.png)"
   ]
  },
  {
   "cell_type": "markdown",
   "metadata": {},
   "source": [
    "### Task 2 - Encryption using Different Ciphers and Modes\n",
    "\n",
    "    This task indicates to try out different ciphertypes with different modes. The first ciphertype I will use is -aes-256-cbc. I encrypted the final outcome from the previous task with a K=1234567890abcdef and iv=abcd1234. I utilized the same K and iv to decrypt.\n",
    "    \n",
    "![task2_p1](Task2/task2_p1.png)\n",
    "\n",
    "    The crypted msg:\n",
    "![task2_p1_crypted](Task2/task2_p1_crypted.png)\n",
    "\n",
    "    The decrypted msg:\n",
    "![task2_p1_decrypted](Task2/task2_p1_decrypted.png)"
   ]
  },
  {
   "cell_type": "markdown",
   "metadata": {},
   "source": [
    "    Using the same cipertype, but different original msg and mode. Here are typed in a password to encrypt and decrypt the msg, which was 'abcd'. Here are the pictures:\n",
    "    \n",
    "![task2_p2](Task2/task2_p2.png)\n",
    "\n",
    "![task2_p2_original](Task2/task2_p2_original.png)\n",
    "\n",
    "![task2_p2_crypted](Task2/task2_p2_crypted.png)\n",
    "\n",
    "![task2_p2_decrypted](Task2/task2_p2_decrypted.png)"
   ]
  },
  {
   "cell_type": "markdown",
   "metadata": {},
   "source": [
    "    From here, I will utilize two different ciphertypes: -aes-128-cfb & -bf-cbc-. Here is a confirmation picture:\n",
    "    \n",
    "![task2_p3](Task2/task2_p3.png)\n",
    "\n",
    "![task2_p4](Task2/task2_p4.png)"
   ]
  },
  {
   "cell_type": "code",
   "execution_count": null,
   "metadata": {},
   "outputs": [],
   "source": []
  }
 ],
 "metadata": {
  "kernelspec": {
   "display_name": "Python 3",
   "language": "python",
   "name": "python3"
  },
  "language_info": {
   "codemirror_mode": {
    "name": "ipython",
    "version": 3
   },
   "file_extension": ".py",
   "mimetype": "text/x-python",
   "name": "python",
   "nbconvert_exporter": "python",
   "pygments_lexer": "ipython3",
   "version": "3.7.4"
  }
 },
 "nbformat": 4,
 "nbformat_minor": 2
}
