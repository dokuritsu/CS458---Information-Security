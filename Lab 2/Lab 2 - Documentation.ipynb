{
 "cells": [
  {
   "cell_type": "markdown",
   "metadata": {},
   "source": [
    "# Lab 2 - Secret Key Encryption Lab\n",
    "## By: Laura Pereda\n",
    "-------------------------------------\n",
    "### Task 1 - Freq. Analysis against Monoalphabetc Substitution Cipher\n",
    "\n",
    "    By running a simple frequency analysis, the characters 'R' and 'S' were the top 2. Thus, it would make sense to map the character 'E' = 'R' and 'T' = 'S'. "
   ]
  },
  {
   "cell_type": "markdown",
   "metadata": {},
   "source": [
    "![Freq_analysis](freq_analysis.png)"
   ]
  },
  {
   "cell_type": "markdown",
   "metadata": {},
   "source": [
    "    From the substitution, I was able to notice that there were a lot of 'Tb', which could indicate that 'B' = 'O'. The word would then form to be 'TO':\n",
    "\n",
    "![firstSub](first_Substitution.png)"
   ]
  },
  {
   "cell_type": "markdown",
   "metadata": {},
   "source": [
    "A very common word within the English language is 'THE', which is similar to 'TUE'. This would indicate that 'U' = 'H'. Substituting these two letters results in the following:\n",
    "\n",
    "![secondSub](second_Sub.png)"
   ]
  },
  {
   "cell_type": "markdown",
   "metadata": {},
   "source": [
    "With this substitution, I noticed that the letter 'N' was always alone which could be a replacement for 'A'. Replacing that character led to a wild guess of replacing 'FP' with 'IS'. This discovery lead to observing 'IH', so another possible replacement 'H' for 'N'.\n",
    "\n",
    "![thirdSub](third_Sub.png)"
   ]
  },
  {
   "cell_type": "markdown",
   "metadata": {},
   "source": [
    "I managed to complete one four-letter word, but I was more interested in the highlighted part of the picture. It seems to form the word 'INTRODUCTION', so 'L' = 'R, 'K' = 'D', 'M' = 'U', and 'J' = 'C':\n",
    "\n",
    "![fourthSub](fourth_Sub.png)"
   ]
  },
  {
   "cell_type": "markdown",
   "metadata": {},
   "source": [
    "From there it was just finishing the last couple of words to finish the decryption. Final outcome:\n",
    "\n",
    "![final](final_Outcome.png)"
   ]
  },
  {
   "cell_type": "code",
   "execution_count": null,
   "metadata": {},
   "outputs": [],
   "source": []
  }
 ],
 "metadata": {
  "kernelspec": {
   "display_name": "Python 3",
   "language": "python",
   "name": "python3"
  },
  "language_info": {
   "codemirror_mode": {
    "name": "ipython",
    "version": 3
   },
   "file_extension": ".py",
   "mimetype": "text/x-python",
   "name": "python",
   "nbconvert_exporter": "python",
   "pygments_lexer": "ipython3",
   "version": "3.7.4"
  }
 },
 "nbformat": 4,
 "nbformat_minor": 2
}
