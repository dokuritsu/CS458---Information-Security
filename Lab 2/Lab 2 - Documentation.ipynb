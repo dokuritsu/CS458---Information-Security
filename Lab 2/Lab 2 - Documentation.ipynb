{
 "cells": [
  {
   "cell_type": "markdown",
   "metadata": {},
   "source": [
    "# Lab 2 - Secret Key Encryption Lab\n",
    "## By: Laura Pereda\n",
    "-------------------------------------\n",
    "### Task 1 - Freq. Analysis against Monoalphabetc Substitution Cipher\n",
    "\n",
    "    By running a simple frequency analysis, the characters 'R' and 'S' were the top 2. Thus, it would make sense to map the character 'E' = 'R' and 'T' = 'S'. "
   ]
  },
  {
   "cell_type": "markdown",
   "metadata": {},
   "source": [
    "![Freq_analysis](Task1/freq_analysis.png)"
   ]
  },
  {
   "cell_type": "markdown",
   "metadata": {},
   "source": [
    "    From the substitution, I was able to notice that there were a lot of 'Tb', which could indicate that 'B' = 'O'. The word would then form to be 'TO':\n",
    "\n",
    "![firstSub](Task1/first_Substitution.png)"
   ]
  },
  {
   "cell_type": "markdown",
   "metadata": {},
   "source": [
    "A very common word within the English language is 'THE', which is similar to 'TUE'. This would indicate that 'U' = 'H'. Substituting these two letters results in the following:\n",
    "\n",
    "![secondSub](Task1/second_Sub.png)"
   ]
  },
  {
   "cell_type": "markdown",
   "metadata": {},
   "source": [
    "With this substitution, I noticed that the letter 'N' was always alone which could be a replacement for 'A'. Replacing that character led to a wild guess of replacing 'FP' with 'IS'. This discovery lead to observing 'IH', so another possible replacement 'H' for 'N'.\n",
    "\n",
    "![thirdSub](Task1/third_Sub.png)"
   ]
  },
  {
   "cell_type": "markdown",
   "metadata": {},
   "source": [
    "I managed to complete one four-letter word, but I was more interested in the highlighted part of the picture. It seems to form the word 'INTRODUCTION', so 'L' = 'R, 'K' = 'D', 'M' = 'U', and 'J' = 'C':\n",
    "\n",
    "![fourthSub](Task1/fourth_Sub.png)"
   ]
  },
  {
   "cell_type": "markdown",
   "metadata": {},
   "source": [
    "From there it was just finishing the last couple of words to finish the decryption. Final outcome:\n",
    "\n",
    "![final](Task1/final_Outcome.png)"
   ]
  },
  {
   "cell_type": "markdown",
   "metadata": {},
   "source": [
    "### Task 2 - Encryption using Different Ciphers and Modes\n",
    "\n",
    "This task indicates to try out different ciphertypes with different modes. The algorithm seems to follow a pattern of __AlgName-keySize-encryptionMode__. The familiar encryption mode for block cipher are Electronic Codebook (ECB) and Cipher Block Chaining (CBC). Because of this, I will be using the ciphertype examples to encrypt and decrypt, while increasing size if possible.\n",
    "\n",
    "To implement the encryption methods, I created a plain textfile with the following content:\n",
    "    \n",
    "![plaintxt](Task2/plaintext.png)"
   ]
  },
  {
   "cell_type": "markdown",
   "metadata": {},
   "source": [
    "Using the cipher and mode: -aes-128-cbc, I encrypt the plain text file.\n",
    "\n",
    "![firstEncryption](Task2/firstEncryption.png)\n",
    "\n",
    "As shown below, using the cipher -aes-128-cbc resulted in an encrypted file that is not easily visible to understand when opening in a normal text editor. \n",
    "\n",
    "![showFirstEncryption](Task2/demonstrateFirstEncrypt.png)\n",
    "\n",
    "However, after doing some research, I realized GHEX was installed in the SeedUbuntu, which will let you view and modify files of binary format. This is just a simple demonstration for the first encryption. \n",
    "\n",
    "![showGHEX](Task2/introGHex.png)\n",
    "\n",
    "Here is the related decryption:\n",
    "\n",
    "![firstDecryption](Task2/firstDecryption.png)\n",
    "\n",
    "Using the cipher and mode: -aes-256-cfb (cbc with size 256 failed at decryption everytime for some reason) while using the same plain text file.\n",
    "\n",
    "![secondEncryption](Task2/secondEncryption.png)\n",
    "\n",
    "The decryption:\n",
    "\n",
    "![secondDecryption](Task2/secondDecryption.png)\n",
    "\n",
    "Using the cipher and mode: -bf-cbc while using same plain text file\n",
    "\n",
    "![thirdEncryption](Task2/thirdEncryption.png)\n",
    "\n",
    "The decryption:\n",
    "\n",
    "![thirdDecryption](Task2/thirdDecryption.png)"
   ]
  },
  {
   "cell_type": "markdown",
   "metadata": {},
   "source": [
    "### Task 3 - Encryption Mode: ECB vs CBC\n",
    "\n",
    "Since the type of ECB or CBC mode is not defined, I decided to use the same ciphertype and mode above (but using ECB and CBC).\n",
    "\n",
    "Using the image provided in Blackboard, I encrypted the image by using **-aes-128-cbc**. When I attempted to view the image through the ImageViewer, an error occurred stating that there was bogus header data. \n",
    "\n",
    "![ebcEncryption](Task3/ecbEncryption.png)\n",
    "\n",
    "The task 3 description indicates that the first 54 bytes contain the header information about the picture, but we have to set it correctly in order for it to be treated as a legitimate **.bmp** file.\n",
    "\n",
    "![headerEncryption](Task3/identifyHeader.png)\n",
    "  \n",
    "By replacing the first 54 bytes of cipher with the original, I was able to view the image.\n",
    "\n",
    "![modifiedEncryption](Task3/modifyHeader.png)\n",
    "\n",
    "The same is done with the CBC encryption. \n",
    "\n",
    "![cbcEncryption](Task3/cbcEncryption.png)\n",
    "\n",
    "Identifying first 54 bytes to change:\n",
    "\n",
    "![identify](Task3/identifyHeaderCBC.png)\n",
    "\n",
    "Modifying to view image:\n",
    "\n",
    "![modify](Task3/modifyHeaderCBC.png)\n",
    "\n",
    "As shown above, the main disadvantage of ECB is when we are encrypting identical plain text blocks into identical cipher text blocks. The patterns are still to visible, which then leads to lack of confidentiality. CBC, on the otherhand, has a more secure system since it utilizes the XOR operation before encrypting each cipher text block."
   ]
  },
  {
   "cell_type": "markdown",
   "metadata": {},
   "source": [
    "### Task 4 - Padding\n",
    "\n",
    "In this task, we are told to choose between using ECB, CBC, CFB, and OFB and indicating if any of these require padding, and if not, why they do not require padding. From the reference to \"Block cipher mode of operation\" in the pdf, cipher modes such as ECB and CBC require that the initial input be an exact multiple of the block size. IF the plain text that will be encrypted is not an exact multiple, then padding is required before encrypting (usually an additional string). When decrypting, the receiver will need to know how to remove the correct amount of padding in an umbiguous manner. \n",
    "\n",
    "As an example of padding, I created a simple plain text file the size of 46. But after encrypting through -aes-128-cbc, the file grew to be the size of 48 bytes which is a multiple of 8 (standard size for block). The size of one block for 128/8 is 16 bytes. The 2 additional bytes were added to fulfill that requirement. \n",
    "\n",
    "![paddingExample](Task4/paddingExample.png)\n",
    "\n",
    "The next part of the task is to create 3 files the length of 5, 10 and 16. Which is shown below:\n",
    "\n",
    "![threeFiles](Task4/created3files.png)\n",
    "\n",
    "After encrypting them using -aes-128-cbc, we can see the additional padding incorporated into the files through GHEX. It's interesting to note that the original f3 files of 16 bytes was encrypted with an outcome of 32 bytes instead of 16 bytes like the other two. \n",
    "\n",
    "![encrypedFiles](Task4/encryptedFiles.png)\n",
    "\n",
    "Opening the original files and the encrypted files with GHEX, we can view the difference:\n",
    "\n",
    "![showPadding](Task4/showLength.png)\n",
    "\n",
    "After decrypting the encrypted files, to view the actual content of the padding we can use a hex tool. Below is the following content of the padding for f1, f2 and f3 decrypted files:\n",
    "\n",
    "![actualContent](Task4/actualContent.png)"
   ]
  },
  {
   "cell_type": "markdown",
   "metadata": {},
   "source": [
    "### Task 5 - Error Propagation – Corrupted Cipher Text\n",
    "\n",
    "In this task, we want to answer the following question: How much information can you recover by decrypting the corrupted\n",
    "file, if the encryption mode is ECB, CBC, CFB, or OFB, respectively?\n",
    "\n",
    "    Since I must answer this question before finishing the task, I will base my answer on the result from Task 3. There I \n",
    "    had compared ECB vs CBC and discovered that ECB fails in comparison to CBC when it comes to encryption, however, this \n",
    "    does not imply that CBC will also have the same results in recovering a cipher. Most likely the results will be based on the mode that doesn't affect the encryption of other blocks. Furthermore, the mode with a decryption that isn't \n",
    "    dependent on other blocks of encrypted blocks would most likely be the best at recovering information. So as a \n",
    "    random guess, I choose OFB.\n",
    "\n",
    "The task indicates to create a file at least 1000 bytes long, so I'll be using the original plain text from Task 1 since it is 1656 bytes long. "
   ]
  },
  {
   "cell_type": "markdown",
   "metadata": {},
   "source": [
    "### Task 6 - Initial Vector (IV)"
   ]
  },
  {
   "cell_type": "code",
   "execution_count": null,
   "metadata": {},
   "outputs": [],
   "source": []
  }
 ],
 "metadata": {
  "kernelspec": {
   "display_name": "Python 3",
   "language": "python",
   "name": "python3"
  },
  "language_info": {
   "codemirror_mode": {
    "name": "ipython",
    "version": 3
   },
   "file_extension": ".py",
   "mimetype": "text/x-python",
   "name": "python",
   "nbconvert_exporter": "python",
   "pygments_lexer": "ipython3",
   "version": "3.7.4"
  }
 },
 "nbformat": 4,
 "nbformat_minor": 2
}
