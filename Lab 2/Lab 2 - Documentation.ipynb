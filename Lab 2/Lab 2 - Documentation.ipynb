{
 "cells": [
  {
   "cell_type": "markdown",
   "metadata": {},
   "source": [
    "# Lab 2 - Secret Key Encryption Lab\n",
    "## By: Laura Pereda\n",
    "-------------------------------------\n",
    "### Task 1 - Freq. Analysis against Monoalphabetc Substitution Cipher\n",
    "\n",
    "    By running a simple frequency analysis, the characters 'R' and 'S' were the top 2. Thus, it would make sense to map the character 'E' = 'R' and 'T' = 'S'. "
   ]
  },
  {
   "cell_type": "markdown",
   "metadata": {},
   "source": [
    "![Freq_analysis](freq_analysis.png)"
   ]
  },
  {
   "cell_type": "markdown",
   "metadata": {},
   "source": [
    "    From the substitution, I was able to notice that there were a lot of 'Tb', which could indicate that 'B' = 'O'. Do such a subsitution results in this:"
   ]
  },
  {
   "cell_type": "code",
   "execution_count": null,
   "metadata": {},
   "outputs": [],
   "source": []
  }
 ],
 "metadata": {
  "kernelspec": {
   "display_name": "Python 3",
   "language": "python",
   "name": "python3"
  },
  "language_info": {
   "codemirror_mode": {
    "name": "ipython",
    "version": 3
   },
   "file_extension": ".py",
   "mimetype": "text/x-python",
   "name": "python",
   "nbconvert_exporter": "python",
   "pygments_lexer": "ipython3",
   "version": "3.7.4"
  }
 },
 "nbformat": 4,
 "nbformat_minor": 2
}
