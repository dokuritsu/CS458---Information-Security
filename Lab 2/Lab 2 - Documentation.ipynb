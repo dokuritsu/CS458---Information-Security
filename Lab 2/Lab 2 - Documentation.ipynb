{
 "cells": [
  {
   "cell_type": "markdown",
   "metadata": {},
   "source": [
    "# Lab 2 - Secret Key Encryption Lab\n",
    "## By: Laura Pereda\n",
    "-------------------------------------\n",
    "### Task 1 - Freq. Analysis against Monoalphabetc Substitution Cipher\n",
    "\n",
    "    By running a simple frequency analysis, the characters 'R' and 'S' were the top 2. Thus, it would make sense to map the character 'E' = 'R' and 'T' = 'S'. "
   ]
  },
  {
   "cell_type": "markdown",
   "metadata": {},
   "source": [
    "![Freq_analysis](Task1/freq_analysis.png)"
   ]
  },
  {
   "cell_type": "markdown",
   "metadata": {},
   "source": [
    "    From the substitution, I was able to notice that there were a lot of 'Tb', which could indicate that 'B' = 'O'. The word would then form to be 'TO':\n",
    "\n",
    "![firstSub](Task1/first_Substitution.png)"
   ]
  },
  {
   "cell_type": "markdown",
   "metadata": {},
   "source": [
    "A very common word within the English language is 'THE', which is similar to 'TUE'. This would indicate that 'U' = 'H'. Substituting these two letters results in the following:\n",
    "\n",
    "![secondSub](Task1/second_Sub.png)"
   ]
  },
  {
   "cell_type": "markdown",
   "metadata": {},
   "source": [
    "With this substitution, I noticed that the letter 'N' was always alone which could be a replacement for 'A'. Replacing that character led to a wild guess of replacing 'FP' with 'IS'. This discovery lead to observing 'IH', so another possible replacement 'H' for 'N'.\n",
    "\n",
    "![thirdSub](Task1/third_Sub.png)"
   ]
  },
  {
   "cell_type": "markdown",
   "metadata": {},
   "source": [
    "I managed to complete one four-letter word, but I was more interested in the highlighted part of the picture. It seems to form the word 'INTRODUCTION', so 'L' = 'R, 'K' = 'D', 'M' = 'U', and 'J' = 'C':\n",
    "\n",
    "![fourthSub](Task1/fourth_Sub.png)"
   ]
  },
  {
   "cell_type": "markdown",
   "metadata": {},
   "source": [
    "From there it was just finishing the last couple of words to finish the decryption. Final outcome:\n",
    "\n",
    "![final](Task1/final_Outcome.png)"
   ]
  },
  {
   "cell_type": "markdown",
   "metadata": {},
   "source": [
    "### Task 2 - Encryption using Different Ciphers and Modes\n",
    "\n",
    "This task indicates to try out different ciphertypes with different modes. The algorithm seems to follow a pattern of __AlgName-keySize-encryptionMode__. The familiar encryption mode for block cipher are Electronic Codebook (ECB) and Cipher Block Chaining (CBC). Because of this, I will be using the ciphertype examples to encrypt and decrypt, while increasing size if possible.\n",
    "\n",
    "To implement the encryption methods, I created a plain textfile with the following content:\n",
    "    \n",
    "![plaintxt](Task2/plaintext.png)"
   ]
  },
  {
   "cell_type": "markdown",
   "metadata": {},
   "source": [
    "Using the cipher and mode: -aes-128-cbc, I encrypt the plain text file.\n",
    "\n",
    "![firstEncryption](Task2/firstEncryption.png)\n",
    "\n",
    "As shown below, using the cipher -aes-128-cbc resulted in an encrypted file that is not easily visible to understand when opening in a normal text editor. \n",
    "\n",
    "![showFirstEncryption](Task2/demonstrateFirstEncrypt.png)\n",
    "\n",
    "However, after doing some research, I realized GHEX was installed in the SeedUbuntu, which will let you view and modify files of binary format. This is just a simple demonstration for the first encryption. \n",
    "\n",
    "![showGHEX](Task2/introGHex.png)\n",
    "\n",
    "Here is the related decryption:\n",
    "\n",
    "![firstDecryption](Task2/firstDecryption.png)\n",
    "\n",
    "Using the cipher and mode: -aes-256-cfb (cbc with size 256 failed at decryption everytime for some reason) while using the same plain text file.\n",
    "\n",
    "![secondEncryption](Task2/secondEncryption.png)\n",
    "\n",
    "The decryption:\n",
    "\n",
    "![secondDecryption](Task2/secondDecryption.png)\n",
    "\n",
    "Using the cipher and mode: -bf-cbc while using same plain text file\n",
    "\n",
    "![thirdEncryption](Task2/thirdEncryption.png)\n",
    "\n",
    "The decryption:\n",
    "\n",
    "![thirdDecryption](Task2/thirdDecryption.png)"
   ]
  },
  {
   "cell_type": "markdown",
   "metadata": {},
   "source": []
  },
  {
   "cell_type": "markdown",
   "metadata": {},
   "source": [
    "### Task 3 - Encryption Mode: ECB vs CBC\n",
    "\n",
    "    Since the type of ECB or CBC mode is not defined, I decided to use Blowfish ECB and CBC (bf-ecb & bf-cbc) to encrypt the given picture. \n",
    "    Here is the photo result after using bf-ecb:\n",
    "    \n"
   ]
  }
 ],
 "metadata": {
  "kernelspec": {
   "display_name": "Python 3",
   "language": "python",
   "name": "python3"
  },
  "language_info": {
   "codemirror_mode": {
    "name": "ipython",
    "version": 3
   },
   "file_extension": ".py",
   "mimetype": "text/x-python",
   "name": "python",
   "nbconvert_exporter": "python",
   "pygments_lexer": "ipython3",
   "version": "3.7.4"
  }
 },
 "nbformat": 4,
 "nbformat_minor": 2
}
